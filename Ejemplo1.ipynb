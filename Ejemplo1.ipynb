{
  "cells": [
    {
      "cell_type": "markdown",
      "metadata": {
        "id": "view-in-github",
        "colab_type": "text"
      },
      "source": [
        "<a href=\"https://colab.research.google.com/github/FranciscoAguiar1971/GitHub-Team-Exercise/blob/francisco/Ejemplo1.ipynb\" target=\"_parent\"><img src=\"https://colab.research.google.com/assets/colab-badge.svg\" alt=\"Open In Colab\"/></a>"
      ]
    },
    {
      "cell_type": "code",
      "execution_count": 1,
      "id": "ee74891b-a346-4090-b2f8-6477a06402fc",
      "metadata": {
        "editable": true,
        "tags": [],
        "id": "ee74891b-a346-4090-b2f8-6477a06402fc"
      },
      "outputs": [],
      "source": [
        "def mayusculas (val):\n",
        "        valmas = val.upper()\n",
        "        return valmas"
      ]
    },
    {
      "cell_type": "code",
      "execution_count": 2,
      "id": "592f91f4-890c-44db-91fc-f8dbd7606e92",
      "metadata": {
        "id": "592f91f4-890c-44db-91fc-f8dbd7606e92"
      },
      "outputs": [],
      "source": [
        "def concatenar (var1, var2):\n",
        "    res = var1 + \"-\" + var2\n",
        "    res2 = mayusculas(res)\n",
        "    if len(res2) >= 10:\n",
        "        print (\"Longitud mayor de 10\")\n",
        "    else:\n",
        "        print (\"Longitud menor de 10\")\n",
        "    return res2"
      ]
    },
    {
      "cell_type": "code",
      "execution_count": 3,
      "id": "c0632e03-a377-448f-8f7e-4bb54b769725",
      "metadata": {
        "colab": {
          "base_uri": "https://localhost:8080/",
          "height": 53
        },
        "id": "c0632e03-a377-448f-8f7e-4bb54b769725",
        "outputId": "eba9dafe-37f4-4c5e-ceb2-929bc4f261b6"
      },
      "outputs": [
        {
          "output_type": "stream",
          "name": "stdout",
          "text": [
            "Longitud mayor de 10\n"
          ]
        },
        {
          "output_type": "execute_result",
          "data": {
            "text/plain": [
              "'HOLA-ADIOS'"
            ],
            "application/vnd.google.colaboratory.intrinsic+json": {
              "type": "string"
            }
          },
          "metadata": {},
          "execution_count": 3
        }
      ],
      "source": [
        "s1 =\"hola\"\n",
        "s2 =\"adios\"\n",
        "s3 = concatenar (s1, s2)\n",
        "s3"
      ]
    },
    {
      "cell_type": "code",
      "execution_count": 4,
      "id": "55aea191-a803-40b5-bb74-4295b2d68d78",
      "metadata": {
        "id": "55aea191-a803-40b5-bb74-4295b2d68d78"
      },
      "outputs": [],
      "source": [
        "import sklearn as sk"
      ]
    },
    {
      "cell_type": "code",
      "execution_count": null,
      "id": "aa59f030-f887-4599-b104-facfcd030ff6",
      "metadata": {
        "id": "aa59f030-f887-4599-b104-facfcd030ff6"
      },
      "outputs": [],
      "source": []
    }
  ],
  "metadata": {
    "kernelspec": {
      "display_name": "Python [conda env:Proyecto_Cons1]",
      "language": "python",
      "name": "conda-env-Proyecto_Cons1-py"
    },
    "language_info": {
      "codemirror_mode": {
        "name": "ipython",
        "version": 3
      },
      "file_extension": ".py",
      "mimetype": "text/x-python",
      "name": "python",
      "nbconvert_exporter": "python",
      "pygments_lexer": "ipython3",
      "version": "3.12.8"
    },
    "colab": {
      "provenance": [],
      "toc_visible": true,
      "include_colab_link": true
    }
  },
  "nbformat": 4,
  "nbformat_minor": 5
}